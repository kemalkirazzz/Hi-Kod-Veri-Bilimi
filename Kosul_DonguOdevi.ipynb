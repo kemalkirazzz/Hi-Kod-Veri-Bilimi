{
 "cells": [
  {
   "cell_type": "markdown",
   "id": "409f0f4a",
   "metadata": {},
   "source": [
    "**Ödev-1:** Kullanıcıdan maaş bilgisini istenir ve bu bilgiye göre maaşından ne kadar vergi kesileceğini hesaplanır. Kullanıcının geliri;\n",
    "\n",
    "1. 10000 ve altındaysa maaşından %5 kesinti olur.\n",
    "2. 25000 ve altındaysa maaşından %10 kesinti olur.\n",
    "3. 45000 ve altındaysa maaşından %25 kesinti olur.\n",
    "4. Diğer koşullarda %30 kesinti olur.\n",
    "\n",
    "Bu durumlara göre kullanıcının yeni maaşı yazdırılır."
   ]
  },
  {
   "cell_type": "code",
   "execution_count": 14,
   "id": "5246e510",
   "metadata": {},
   "outputs": [
    {
     "name": "stdout",
     "output_type": "stream",
     "text": [
      "Maaş Bilginizi Gİriniz:55000\n",
      "Vergi Kesintisinden Sonra Maaşınız: 38500.0\n"
     ]
    }
   ],
   "source": [
    "maas= int(input(\"Maaş Bilginizi Gİriniz:\"))\n",
    "\n",
    "if maas<10000:\n",
    "    maas-=(maas/100)*5\n",
    "    print(\"Vergi Kesintisinden Sonra Maaşınız:\",maas)\n",
    "elif maas<25000:\n",
    "    maas-=(maas/100)*10\n",
    "    print(\"Vergi Kesintisinden Sonra Maaşınız:\",maas)\n",
    "elif maas<45000:\n",
    "    maas-=(maas/100)*25\n",
    "    print(\"Vergi Kesintisinden Sonra Maaşınız:\",maas)\n",
    "else:\n",
    "    maas-=(maas/100)*30\n",
    "    print(\"Vergi Kesintisinden Sonra Maaşınız:\",maas)\n"
   ]
  },
  {
   "cell_type": "markdown",
   "id": "f5fe8798",
   "metadata": {},
   "source": [
    "**Ödev-2:** Kullanıcıdan kullanıcı adı ve şifre oluşturmasını istenir. Şifrenin uzunluğu altı haneye ulaşmışsa hesabınız oluşturuldu mesajı alınır, altı haneden azsa altı haneli şifre oluşturması gerektiğinin mesajı alınır. *(Sadece koşul kullanılması yeterli.)*"
   ]
  },
  {
   "cell_type": "code",
   "execution_count": 19,
   "id": "6acffe57",
   "metadata": {},
   "outputs": [
    {
     "name": "stdout",
     "output_type": "stream",
     "text": [
      "Kullanıcı Adı Giriniz:lllü\n",
      "Şifrenizi Giriniz:12\n",
      "Lütfen 6 Haneli Bir Şifre Yazınız!!!\n"
     ]
    }
   ],
   "source": [
    "kullanici_Adi=input(\"Kullanıcı Adı Giriniz:\")\n",
    "sifre=input(\"Şifrenizi Giriniz:\")\n",
    "\n",
    "if len(sifre)>=6:\n",
    "    print(\"Hesabınız Oluşturuldu:)\")\n",
    "else:\n",
    "    print(\"Lütfen 6 Haneli Bir Şifre Yazınız!!!\")"
   ]
  },
  {
   "cell_type": "markdown",
   "id": "aaccf11a",
   "metadata": {},
   "source": [
    "**Ödev-3:** Bir önceki örnek geliştirilir.\n",
    "\n",
    "1. Kullanıcı girdiği şifre 5 ve 10 hane arasında olmak zorunda.\n",
    "2. Eğer bu koşula uyuyorsa \"Hesabınız oluşturuldu.\" mesajı alır.\n",
    "3. Koşulu sağlamıyorsa \"Lütfen girdiniz şifre 5 haneden az 10 haneden fazla olmasın!\" uyarısı alır.\n",
    "4. Bunu oluştururken kullanıcı istediğimiz şartlarda şifre oluşturana kadar sormaya devam eder"
   ]
  },
  {
   "cell_type": "code",
   "execution_count": 5,
   "id": "039e50dc",
   "metadata": {},
   "outputs": [
    {
     "name": "stdout",
     "output_type": "stream",
     "text": [
      "Kullanıcı Adı Giriniz:kemal\n",
      "Şifrenizi Giriniz:123\n",
      "Lütfen girdiniz şifre 5 haneden az 10 haneden fazla olmasın!\n",
      "Kullanıcı Adı Giriniz:kemalüü\n",
      "Şifrenizi Giriniz:123456789523454\n",
      "Lütfen girdiniz şifre 5 haneden az 10 haneden fazla olmasın!\n",
      "Kullanıcı Adı Giriniz:kemalü\n",
      "Şifrenizi Giriniz:74123\n",
      "Hesabınız Oluşturuldu:)\n"
     ]
    }
   ],
   "source": [
    "while True:\n",
    "    kullanici_Adi=input(\"Kullanıcı Adı Giriniz:\")\n",
    "    sifre=input(\"Şifrenizi Giriniz:\")\n",
    "    if 5<=len(sifre)<=10:\n",
    "        print(\"Hesabınız Oluşturuldu:)\")\n",
    "        break\n",
    "    else:\n",
    "        print(\"Lütfen girdiniz şifre 5 haneden az 10 haneden fazla olmasın!\")"
   ]
  },
  {
   "cell_type": "markdown",
   "id": "8ba81863",
   "metadata": {},
   "source": [
    "**Ödev-4:** Kullanıcıdan isim ve şifre isteyeceğiz ve şifre girişi için üç hak verilir.\n",
    "\n",
    "1. Eğer önceden tanımlı şifre ile kullanıcıdan gelen şifre aynıysa \"Giriş yapıldı.\" yazar.\n",
    "2. Şifre girişi yanlışsa \"Yanlış şifre girildi!\" uyarısı verilsin ve üç yanlış denemede program biter.\n",
    "3. Tercihe göre kalan hak bilgisi verilir."
   ]
  },
  {
   "cell_type": "code",
   "execution_count": 9,
   "id": "8f45ea0c",
   "metadata": {},
   "outputs": [
    {
     "name": "stdout",
     "output_type": "stream",
     "text": [
      "Kullanıcı Adı Giriniz:kemal\n",
      "Şifrenizi Giriniz:12345\n",
      "Doğru şifre! Giriş başarılı.\n"
     ]
    }
   ],
   "source": [
    "hak = 0\n",
    "sifreK = \"12345\"\n",
    "\n",
    "while hak < 3:\n",
    "    kullanici_Adi = input(\"Kullanıcı Adı Giriniz:\")\n",
    "    sifre = input(\"Şifrenizi Giriniz:\")\n",
    "\n",
    "    if  sifre != sifreK:\n",
    "        print(\"Yanlış şifre girildi!\")\n",
    "        hak += 1\n",
    "    else:\n",
    "        print(\"Doğru şifre! Giriş başarılı.\")\n",
    "        break\n",
    "else:\n",
    "    print(\"Üç kez yanlış şifre girişi yapıldı. Hesap kilitlendi.\")\n"
   ]
  }
 ],
 "metadata": {
  "kernelspec": {
   "display_name": "Python 3 (ipykernel)",
   "language": "python",
   "name": "python3"
  },
  "language_info": {
   "codemirror_mode": {
    "name": "ipython",
    "version": 3
   },
   "file_extension": ".py",
   "mimetype": "text/x-python",
   "name": "python",
   "nbconvert_exporter": "python",
   "pygments_lexer": "ipython3",
   "version": "3.11.5"
  }
 },
 "nbformat": 4,
 "nbformat_minor": 5
}
