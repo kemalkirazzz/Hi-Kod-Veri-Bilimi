{
 "cells": [
  {
   "cell_type": "markdown",
   "id": "a0f6364d",
   "metadata": {},
   "source": [
    "##### 1.Sayılardan oluşan bir boyutlu array oluşturun. Arrayi oluştururken sayıların veri tipini integer olarak belirtelim.\n",
    "\n",
    "Oluşturulan arrayin boyut, eleman sayısı bilgilerine bakalım."
   ]
  },
  {
   "cell_type": "code",
   "execution_count": 1,
   "id": "c16c30a6",
   "metadata": {},
   "outputs": [],
   "source": [
    "import numpy as np"
   ]
  },
  {
   "cell_type": "code",
   "execution_count": 2,
   "id": "53614f97",
   "metadata": {},
   "outputs": [],
   "source": [
    "x=np.array([7,28,12,2,29,6],dtype=\"int\")"
   ]
  },
  {
   "cell_type": "code",
   "execution_count": 7,
   "id": "69d83e1b",
   "metadata": {},
   "outputs": [
    {
     "data": {
      "text/plain": [
       "1"
      ]
     },
     "execution_count": 7,
     "metadata": {},
     "output_type": "execute_result"
    }
   ],
   "source": [
    "np.ndim(x)"
   ]
  },
  {
   "cell_type": "code",
   "execution_count": 8,
   "id": "562ac1f9",
   "metadata": {},
   "outputs": [
    {
     "data": {
      "text/plain": [
       "6"
      ]
     },
     "execution_count": 8,
     "metadata": {},
     "output_type": "execute_result"
    }
   ],
   "source": [
    "np.size(x)"
   ]
  },
  {
   "cell_type": "markdown",
   "id": "1681f851",
   "metadata": {},
   "source": [
    "##### 2. Aşağıda verilen iki boyutlu ve üç boyutlu arrayi oluşturalım. Bu arraylerin boyut, eleman sayısı, satır, sütun bilgilerine ulaşalım. \n",
    "\n",
    "İki boyutlu array:\n",
    "[[1,2,6,7],\n",
    " [4,3,9,5]]\n",
    "\n",
    "Üç boyutlu array:\n",
    "[[[7,5,14],[21,8,11]],\n",
    " [[8,6,20],[14,3,9]]]\n",
    "\n",
    " "
   ]
  },
  {
   "cell_type": "code",
   "execution_count": 20,
   "id": "e3a138ed",
   "metadata": {},
   "outputs": [],
   "source": [
    "arry2 = np.array([[1,2,6,7],[4,3,9,5]])\n",
    "arry3 = np.array([[[7,5,14],[21,8,11]],[[8,6,20],[14,3,9]]])"
   ]
  },
  {
   "cell_type": "code",
   "execution_count": 21,
   "id": "6e34e29b",
   "metadata": {},
   "outputs": [
    {
     "data": {
      "text/plain": [
       "array([[1, 2, 6, 7],\n",
       "       [4, 3, 9, 5]])"
      ]
     },
     "execution_count": 21,
     "metadata": {},
     "output_type": "execute_result"
    }
   ],
   "source": [
    "arry2"
   ]
  },
  {
   "cell_type": "code",
   "execution_count": 22,
   "id": "4409a33d",
   "metadata": {},
   "outputs": [
    {
     "data": {
      "text/plain": [
       "array([[[ 7,  5, 14],\n",
       "        [21,  8, 11]],\n",
       "\n",
       "       [[ 8,  6, 20],\n",
       "        [14,  3,  9]]])"
      ]
     },
     "execution_count": 22,
     "metadata": {},
     "output_type": "execute_result"
    }
   ],
   "source": [
    "arry3"
   ]
  },
  {
   "cell_type": "code",
   "execution_count": 23,
   "id": "62e72125",
   "metadata": {},
   "outputs": [
    {
     "data": {
      "text/plain": [
       "2"
      ]
     },
     "execution_count": 23,
     "metadata": {},
     "output_type": "execute_result"
    }
   ],
   "source": [
    "np.ndim(arry2)\n"
   ]
  },
  {
   "cell_type": "code",
   "execution_count": 24,
   "id": "dbfdaea7",
   "metadata": {},
   "outputs": [
    {
     "data": {
      "text/plain": [
       "3"
      ]
     },
     "execution_count": 24,
     "metadata": {},
     "output_type": "execute_result"
    }
   ],
   "source": [
    "np.ndim(arry3)"
   ]
  },
  {
   "cell_type": "code",
   "execution_count": 25,
   "id": "60a58515",
   "metadata": {},
   "outputs": [
    {
     "data": {
      "text/plain": [
       "8"
      ]
     },
     "execution_count": 25,
     "metadata": {},
     "output_type": "execute_result"
    }
   ],
   "source": [
    "np.size(arry2)"
   ]
  },
  {
   "cell_type": "code",
   "execution_count": 26,
   "id": "cf6ca434",
   "metadata": {},
   "outputs": [
    {
     "data": {
      "text/plain": [
       "12"
      ]
     },
     "execution_count": 26,
     "metadata": {},
     "output_type": "execute_result"
    }
   ],
   "source": [
    "np.size(arry3)"
   ]
  },
  {
   "cell_type": "code",
   "execution_count": 27,
   "id": "c331e732",
   "metadata": {},
   "outputs": [
    {
     "data": {
      "text/plain": [
       "(2, 4)"
      ]
     },
     "execution_count": 27,
     "metadata": {},
     "output_type": "execute_result"
    }
   ],
   "source": [
    "np.shape(arry2)"
   ]
  },
  {
   "cell_type": "code",
   "execution_count": 28,
   "id": "b373a7bf",
   "metadata": {},
   "outputs": [
    {
     "data": {
      "text/plain": [
       "(2, 2, 3)"
      ]
     },
     "execution_count": 28,
     "metadata": {},
     "output_type": "execute_result"
    }
   ],
   "source": [
    "np.shape(arry3)"
   ]
  },
  {
   "cell_type": "markdown",
   "id": "b45192b0",
   "metadata": {},
   "source": [
    "##### 3. İstenilen elamanlara ulaşmak için arrayler üzerinde indexleme işlemi yapalım"
   ]
  },
  {
   "cell_type": "code",
   "execution_count": 30,
   "id": "563f9992",
   "metadata": {},
   "outputs": [
    {
     "data": {
      "text/plain": [
       "2"
      ]
     },
     "execution_count": 30,
     "metadata": {},
     "output_type": "execute_result"
    }
   ],
   "source": [
    "#İki boyutlu arraydaki 2 elemanına ulaşalım\n",
    "arry2[0,1]"
   ]
  },
  {
   "cell_type": "code",
   "execution_count": 31,
   "id": "fd0a0be4",
   "metadata": {},
   "outputs": [
    {
     "data": {
      "text/plain": [
       "7"
      ]
     },
     "execution_count": 31,
     "metadata": {},
     "output_type": "execute_result"
    }
   ],
   "source": [
    "#İki boyutlu arraydaki 7 elemanına ulaşalım,\n",
    "arry2[0,3]"
   ]
  },
  {
   "cell_type": "code",
   "execution_count": 32,
   "id": "0c2b1884",
   "metadata": {},
   "outputs": [
    {
     "data": {
      "text/plain": [
       "9"
      ]
     },
     "execution_count": 32,
     "metadata": {},
     "output_type": "execute_result"
    }
   ],
   "source": [
    "#Üç boyutlu arraydaki 9 elemanına ulaşalım\n",
    "arry3[1,1,2]"
   ]
  },
  {
   "cell_type": "code",
   "execution_count": 33,
   "id": "0dc07d00",
   "metadata": {},
   "outputs": [
    {
     "data": {
      "text/plain": [
       "5"
      ]
     },
     "execution_count": 33,
     "metadata": {},
     "output_type": "execute_result"
    }
   ],
   "source": [
    "#Üç boyutlu arraydaki 5 elemanına ulaşalım\n",
    "arry3[0,0,1]"
   ]
  },
  {
   "cell_type": "markdown",
   "id": "12198bc9",
   "metadata": {},
   "source": [
    "##### 4. Arrayler üzerinde slicing işlemi uygulayalım."
   ]
  },
  {
   "cell_type": "code",
   "execution_count": 34,
   "id": "b9834fc0",
   "metadata": {},
   "outputs": [
    {
     "data": {
      "text/plain": [
       "array([[1, 2, 6, 7],\n",
       "       [4, 3, 9, 5]])"
      ]
     },
     "execution_count": 34,
     "metadata": {},
     "output_type": "execute_result"
    }
   ],
   "source": [
    "arry2"
   ]
  },
  {
   "cell_type": "code",
   "execution_count": 35,
   "id": "b7f5d7a0",
   "metadata": {},
   "outputs": [
    {
     "data": {
      "text/plain": [
       "array([[[ 7,  5, 14],\n",
       "        [21,  8, 11]],\n",
       "\n",
       "       [[ 8,  6, 20],\n",
       "        [14,  3,  9]]])"
      ]
     },
     "execution_count": 35,
     "metadata": {},
     "output_type": "execute_result"
    }
   ],
   "source": [
    "arry3"
   ]
  },
  {
   "cell_type": "code",
   "execution_count": 37,
   "id": "9d066ba1",
   "metadata": {},
   "outputs": [
    {
     "data": {
      "text/plain": [
       "array([[2, 6]])"
      ]
     },
     "execution_count": 37,
     "metadata": {},
     "output_type": "execute_result"
    }
   ],
   "source": [
    "#İki boyutlu arraydaki 2,6 elemanlarına ulaşalım\n",
    "arry2[0:1,1:3]"
   ]
  },
  {
   "cell_type": "code",
   "execution_count": 38,
   "id": "e020f980",
   "metadata": {},
   "outputs": [
    {
     "data": {
      "text/plain": [
       "array([3, 9, 5])"
      ]
     },
     "execution_count": 38,
     "metadata": {},
     "output_type": "execute_result"
    }
   ],
   "source": [
    "#İki boyutlu arraydaki 3,9,5 elemanlarına ulaşalım\n",
    "arry2[1,1:]"
   ]
  },
  {
   "cell_type": "code",
   "execution_count": 39,
   "id": "891bed31",
   "metadata": {},
   "outputs": [
    {
     "data": {
      "text/plain": [
       "array([21,  8, 11])"
      ]
     },
     "execution_count": 39,
     "metadata": {},
     "output_type": "execute_result"
    }
   ],
   "source": [
    "#Üç boyutlu arraydaki 21,8,11 elemanlarına ulaşalım\n",
    "arry3[0,1,:]"
   ]
  },
  {
   "cell_type": "code",
   "execution_count": 40,
   "id": "bcbf5f17",
   "metadata": {},
   "outputs": [
    {
     "data": {
      "text/plain": [
       "array([ 6, 20])"
      ]
     },
     "execution_count": 40,
     "metadata": {},
     "output_type": "execute_result"
    }
   ],
   "source": [
    "#Üç boyutlu arraydaki 6,20 elemanlarına ulaşalım\n",
    "arry3[1,0,1:]"
   ]
  },
  {
   "cell_type": "markdown",
   "id": "66d2aab8",
   "metadata": {},
   "source": [
    "##### 5. 5 satır 3 sütunluk sıfırlardan ve birlerden oluşan iki tane iki boyutlu array oluşturalım. Bu arrayleri satır ve sütun bazında birleştirelim."
   ]
  },
  {
   "cell_type": "code",
   "execution_count": 43,
   "id": "99a6ed29",
   "metadata": {},
   "outputs": [
    {
     "data": {
      "text/plain": [
       "array([[0, 0, 0],\n",
       "       [0, 0, 0],\n",
       "       [0, 0, 0],\n",
       "       [0, 0, 0],\n",
       "       [0, 0, 0]])"
      ]
     },
     "execution_count": 43,
     "metadata": {},
     "output_type": "execute_result"
    }
   ],
   "source": [
    "s=np.zeros((5,3),dtype=\"int\")\n",
    "s"
   ]
  },
  {
   "cell_type": "code",
   "execution_count": 45,
   "id": "e28b127e",
   "metadata": {},
   "outputs": [
    {
     "data": {
      "text/plain": [
       "array([[1, 1, 1],\n",
       "       [1, 1, 1],\n",
       "       [1, 1, 1],\n",
       "       [1, 1, 1],\n",
       "       [1, 1, 1]])"
      ]
     },
     "execution_count": 45,
     "metadata": {},
     "output_type": "execute_result"
    }
   ],
   "source": [
    "b= np.ones((5,3),dtype=\"int\")\n",
    "b"
   ]
  },
  {
   "cell_type": "code",
   "execution_count": 49,
   "id": "4d6b7a89",
   "metadata": {},
   "outputs": [
    {
     "data": {
      "text/plain": [
       "array([[0, 0, 0],\n",
       "       [0, 0, 0],\n",
       "       [0, 0, 0],\n",
       "       [0, 0, 0],\n",
       "       [0, 0, 0],\n",
       "       [1, 1, 1],\n",
       "       [1, 1, 1],\n",
       "       [1, 1, 1],\n",
       "       [1, 1, 1],\n",
       "       [1, 1, 1]])"
      ]
     },
     "execution_count": 49,
     "metadata": {},
     "output_type": "execute_result"
    }
   ],
   "source": [
    "satir = np.concatenate([s,b])\n",
    "satir"
   ]
  },
  {
   "cell_type": "code",
   "execution_count": 50,
   "id": "f34a4330",
   "metadata": {},
   "outputs": [
    {
     "data": {
      "text/plain": [
       "array([[0, 0, 0, 1, 1, 1],\n",
       "       [0, 0, 0, 1, 1, 1],\n",
       "       [0, 0, 0, 1, 1, 1],\n",
       "       [0, 0, 0, 1, 1, 1],\n",
       "       [0, 0, 0, 1, 1, 1]])"
      ]
     },
     "execution_count": 50,
     "metadata": {},
     "output_type": "execute_result"
    }
   ],
   "source": [
    "sutun = np.concatenate([s,b],axis=1)\n",
    "sutun"
   ]
  },
  {
   "cell_type": "code",
   "execution_count": null,
   "id": "c87a3efc",
   "metadata": {},
   "outputs": [],
   "source": []
  }
 ],
 "metadata": {
  "kernelspec": {
   "display_name": "Python 3 (ipykernel)",
   "language": "python",
   "name": "python3"
  },
  "language_info": {
   "codemirror_mode": {
    "name": "ipython",
    "version": 3
   },
   "file_extension": ".py",
   "mimetype": "text/x-python",
   "name": "python",
   "nbconvert_exporter": "python",
   "pygments_lexer": "ipython3",
   "version": "0.0.0"
  }
 },
 "nbformat": 4,
 "nbformat_minor": 5
}
