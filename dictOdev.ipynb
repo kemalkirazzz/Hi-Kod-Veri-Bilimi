{
 "cells": [
  {
   "cell_type": "markdown",
   "metadata": {},
   "source": [
    "### Ödev 1\n",
    "\n",
    "Bir sözlük oluşturulur ve bu sözlükte öğrencilerin isimleri ve Matematik, Fizik, Kimya notları tutulur. Kullanıcıdan isim ve ders ismi(Matematik, Fizik, Kimya) istenir ve bu bilgilere göre çıktı verilir."
   ]
  },
  {
   "cell_type": "code",
   "execution_count": 4,
   "metadata": {},
   "outputs": [
    {
     "name": "stdout",
     "output_type": "stream",
     "text": [
      "Öğrencinin İsmi: Buse Sevinç\n",
      "Dersinini İsmini Giriniz: Fizik\n",
      "45\n"
     ]
    }
   ],
   "source": [
    "ogrenci_bilgileri={\"Kemal Kiraz\":{\"Matematik\":\"05\",\n",
    "                                 \"Fizik\":\"55\",\n",
    "                                 \"Kimya\":\"65\"},\n",
    "                   \"Buse Sevinç\":{\"Matematik\":\"85\",\n",
    "                                 \"Fizik\":\"45\",\n",
    "                                 \"Kimya\":\"75\"},\n",
    "                   \"Oktay Yılmaz\":{\"Matematik\":\"65\",\n",
    "                                 \"Fizik\":\"75\",\n",
    "                                 \"Kimya\":\"45\"},\n",
    "                   \"Ahsen Kuyumcu\":{\"Matematik\":\"15\",\n",
    "                                 \"Fizik\":\"35\",\n",
    "                                 \"Kimya\":\"45\"}}\n",
    "isim = input(\"Öğrencinin İsmi: \")\n",
    "ders_ismi = input(\"Dersinini İsmini Giriniz: \")\n",
    "\n",
    "print(ogrenci_bilgileri[isim][ders_ismi])"
   ]
  },
  {
   "cell_type": "markdown",
   "metadata": {},
   "source": [
    "### Ödev 2\n",
    "\n",
    "Sözlük üzerinde değerleri değiştirme, yeni değer ekleme, kullanıcıya ulaşmak istediği bilgileri sorma gibi uygulamalar yapın."
   ]
  },
  {
   "cell_type": "code",
   "execution_count": 5,
   "metadata": {},
   "outputs": [],
   "source": [
    "ogrenci_bilgileri[\"Yusuf Mavi\"]={\"Matematik\":\"85\",\n",
    "                                 \"Fizik\":\"75\",\n",
    "                                 \"Kimya\":\"65\"}"
   ]
  },
  {
   "cell_type": "code",
   "execution_count": 6,
   "metadata": {},
   "outputs": [
    {
     "data": {
      "text/plain": [
       "{'Kemal Kiraz': {'Matematik': '05', 'Fizik': '55', 'Kimya': '65'},\n",
       " 'Buse Sevinç': {'Matematik': '85', 'Fizik': '45', 'Kimya': '75'},\n",
       " 'Oktay Yılmaz': {'Matematik': '65', 'Fizik': '75', 'Kimya': '45'},\n",
       " 'Ahsen Kuyumcu': {'Matematik': '15', 'Fizik': '35', 'Kimya': '45'},\n",
       " 'Yusuf Mavi': {'Matematik': '85', 'Fizik': '75', 'Kimya': '65'}}"
      ]
     },
     "execution_count": 6,
     "metadata": {},
     "output_type": "execute_result"
    }
   ],
   "source": [
    "ogrenci_bilgileri"
   ]
  },
  {
   "cell_type": "code",
   "execution_count": 7,
   "metadata": {},
   "outputs": [],
   "source": [
    "ogrenci_bilgileri[\"Yusuf Mavi\"][\"Kimya\"]=\"95\""
   ]
  },
  {
   "cell_type": "code",
   "execution_count": 8,
   "metadata": {},
   "outputs": [
    {
     "data": {
      "text/plain": [
       "{'Kemal Kiraz': {'Matematik': '05', 'Fizik': '55', 'Kimya': '65'},\n",
       " 'Buse Sevinç': {'Matematik': '85', 'Fizik': '45', 'Kimya': '75'},\n",
       " 'Oktay Yılmaz': {'Matematik': '65', 'Fizik': '75', 'Kimya': '45'},\n",
       " 'Ahsen Kuyumcu': {'Matematik': '15', 'Fizik': '35', 'Kimya': '45'},\n",
       " 'Yusuf Mavi': {'Matematik': '85', 'Fizik': '75', 'Kimya': '95'}}"
      ]
     },
     "execution_count": 8,
     "metadata": {},
     "output_type": "execute_result"
    }
   ],
   "source": [
    "ogrenci_bilgileri"
   ]
  },
  {
   "cell_type": "code",
   "execution_count": 10,
   "metadata": {},
   "outputs": [],
   "source": [
    "ogrenci_bilgileri[\"Kemal Kiraz\"][\"Matematik\"]=\"25\"\n",
    "ogrenci_bilgileri[\"Oktay Yılmaz\"][\"Kimya\"]=\"55\""
   ]
  },
  {
   "cell_type": "code",
   "execution_count": 11,
   "metadata": {},
   "outputs": [
    {
     "data": {
      "text/plain": [
       "{'Kemal Kiraz': {'Matematik': '25', 'Fizik': '55', 'Kimya': '65'},\n",
       " 'Buse Sevinç': {'Matematik': '85', 'Fizik': '45', 'Kimya': '75'},\n",
       " 'Oktay Yılmaz': {'Matematik': '65', 'Fizik': '75', 'Kimya': '55'},\n",
       " 'Ahsen Kuyumcu': {'Matematik': '15', 'Fizik': '35', 'Kimya': '45'},\n",
       " 'Yusuf Mavi': {'Matematik': '85', 'Fizik': '75', 'Kimya': '95'}}"
      ]
     },
     "execution_count": 11,
     "metadata": {},
     "output_type": "execute_result"
    }
   ],
   "source": [
    "ogrenci_bilgileri"
   ]
  },
  {
   "cell_type": "code",
   "execution_count": null,
   "metadata": {},
   "outputs": [],
   "source": []
  }
 ],
 "metadata": {
  "kernelspec": {
   "display_name": "Python 3 (ipykernel)",
   "language": "python",
   "name": "python3"
  },
  "language_info": {
   "codemirror_mode": {
    "name": "ipython",
    "version": 3
   },
   "file_extension": ".py",
   "mimetype": "text/x-python",
   "name": "python",
   "nbconvert_exporter": "python",
   "pygments_lexer": "ipython3",
   "version": "3.11.5"
  }
 },
 "nbformat": 4,
 "nbformat_minor": 2
}
